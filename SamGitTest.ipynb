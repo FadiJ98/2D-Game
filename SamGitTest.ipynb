{
 "cells": [
  {
   "cell_type": "markdown",
   "id": "929b3d79-aa92-4946-808a-65de7962d772",
   "metadata": {},
   "source": [
    "### A test of jupyter markdown feature in github"
   ]
  }
 ],
 "metadata": {
  "kernelspec": {
   "display_name": "Python 3 (ipykernel)",
   "language": "python",
   "name": "python3"
  },
  "language_info": {
   "codemirror_mode": {
    "name": "ipython",
    "version": 3
   },
   "file_extension": ".py",
   "mimetype": "text/x-python",
   "name": "python",
   "nbconvert_exporter": "python",
   "pygments_lexer": "ipython3",
   "version": "3.12.7"
  }
 },
 "nbformat": 4,
 "nbformat_minor": 5
}
